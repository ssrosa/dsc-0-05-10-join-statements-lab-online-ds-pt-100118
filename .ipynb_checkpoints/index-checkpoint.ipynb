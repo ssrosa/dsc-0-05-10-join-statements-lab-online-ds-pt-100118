{
 "cells": [
  {
   "cell_type": "markdown",
   "metadata": {},
   "source": [
    "# Join Statements"
   ]
  },
  {
   "cell_type": "markdown",
   "metadata": {},
   "source": [
    "## Introduction"
   ]
  },
  {
   "cell_type": "markdown",
   "metadata": {},
   "source": [
    "In this lab, you'll practice your knowledge on Join statements."
   ]
  },
  {
   "cell_type": "markdown",
   "metadata": {},
   "source": [
    "## Objectives"
   ]
  },
  {
   "cell_type": "markdown",
   "metadata": {},
   "source": [
    "You will be able to:\n",
    "- Write queries that make use of various types of Joins\n",
    "- Join tables using foreign keys"
   ]
  },
  {
   "cell_type": "markdown",
   "metadata": {},
   "source": [
    "## CRM Schema\n",
    "\n",
    "In almost all cases, rather then just working with a single table we will typically need data from multiple tables. \n",
    "Doing this requires the use of **joins ** using shared columns from the two tables. \n",
    "\n",
    "In this lab, we'll use the same Customer Relationship Management (CRM) database we used in our lecture before!\n",
    "<img src='Database-Schema.png' width=550>"
   ]
  },
  {
   "cell_type": "markdown",
   "metadata": {},
   "source": [
    "## Connecting to the Database\n",
    "Import the necessary packages and connect to the database **data.sqlite**."
   ]
  },
  {
   "cell_type": "code",
   "execution_count": 1,
   "metadata": {},
   "outputs": [],
   "source": [
    "import sqlite3\n",
    "import pandas as pd\n",
    "conn = sqlite3.connect('data.sqlite', detect_types=sqlite3.PARSE_COLNAMES)"
   ]
  },
  {
   "cell_type": "code",
   "execution_count": 2,
   "metadata": {},
   "outputs": [],
   "source": [
    "cur = conn.cursor()"
   ]
  },
  {
   "cell_type": "markdown",
   "metadata": {},
   "source": [
    "## Display the names of all the employees in Boston."
   ]
  },
  {
   "cell_type": "code",
   "execution_count": 5,
   "metadata": {},
   "outputs": [
    {
     "data": {
      "text/plain": [
       "[('table',\n",
       "  'orderdetails',\n",
       "  'orderdetails',\n",
       "  2,\n",
       "  'CREATE TABLE `orderdetails` (`orderNumber`, `productCode`, `quantityOrdered`, `priceEach`, `orderLineNumber`)'),\n",
       " ('table',\n",
       "  'payments',\n",
       "  'payments',\n",
       "  28,\n",
       "  'CREATE TABLE `payments` (`customerNumber`, `checkNumber`, `paymentDate`, `amount`)'),\n",
       " ('table',\n",
       "  'offices',\n",
       "  'offices',\n",
       "  32,\n",
       "  'CREATE TABLE `offices` (`officeCode`, `city`, `phone`, `addressLine1`, `addressLine2`, `state`, `country`, `postalCode`, `territory`)'),\n",
       " ('table',\n",
       "  'customers',\n",
       "  'customers',\n",
       "  33,\n",
       "  'CREATE TABLE `customers` (`customerNumber`, `customerName`, `contactLastName`, `contactFirstName`, `phone`, `addressLine1`, `addressLine2`, `city`, `state`, `postalCode`, `country`, `salesRepEmployeeNumber`, `creditLimit`)'),\n",
       " ('table',\n",
       "  'orders',\n",
       "  'orders',\n",
       "  38,\n",
       "  'CREATE TABLE `orders` (`orderNumber`, `orderDate`, `requiredDate`, `shippedDate`, `status`, `comments`, `customerNumber`)'),\n",
       " ('table',\n",
       "  'productlines',\n",
       "  'productlines',\n",
       "  46,\n",
       "  'CREATE TABLE `productlines` (`productLine`, `textDescription`, `htmlDescription`, `image`)'),\n",
       " ('table',\n",
       "  'products',\n",
       "  'products',\n",
       "  47,\n",
       "  'CREATE TABLE `products` (`productCode`, `productName`, `productLine`, `productScale`, `productVendor`, `productDescription`, `quantityInStock`, `buyPrice`, `MSRP`)'),\n",
       " ('table',\n",
       "  'employees',\n",
       "  'employees',\n",
       "  56,\n",
       "  'CREATE TABLE `employees` (`employeeNumber`, `lastName`, `firstName`, `extension`, `email`, `officeCode`, `reportsTo`, `jobTitle`)')]"
      ]
     },
     "execution_count": 5,
     "metadata": {},
     "output_type": "execute_result"
    }
   ],
   "source": [
    "cur.execute('''SELECT * FROM sqlite_master\n",
    "                        WHERE type='table';\n",
    "            ''').fetchall()"
   ]
  },
  {
   "cell_type": "code",
   "execution_count": 7,
   "metadata": {},
   "outputs": [
    {
     "data": {
      "text/plain": [
       "[('1',\n",
       "  'San Francisco',\n",
       "  '+1 650 219 4782',\n",
       "  '100 Market Street',\n",
       "  'Suite 300',\n",
       "  'CA',\n",
       "  'USA',\n",
       "  '94080',\n",
       "  'NA'),\n",
       " ('2',\n",
       "  'Boston',\n",
       "  '+1 215 837 0825',\n",
       "  '1550 Court Place',\n",
       "  'Suite 102',\n",
       "  'MA',\n",
       "  'USA',\n",
       "  '02107',\n",
       "  'NA'),\n",
       " ('3',\n",
       "  'NYC',\n",
       "  '+1 212 555 3000',\n",
       "  '523 East 53rd Street',\n",
       "  'apt. 5A',\n",
       "  'NY',\n",
       "  'USA',\n",
       "  '10022',\n",
       "  'NA'),\n",
       " ('4',\n",
       "  'Paris',\n",
       "  '+33 14 723 4404',\n",
       "  \"43 Rue Jouffroy D'abbans\",\n",
       "  '',\n",
       "  '',\n",
       "  'France',\n",
       "  '75017',\n",
       "  'EMEA'),\n",
       " ('5',\n",
       "  'Tokyo',\n",
       "  '+81 33 224 5000',\n",
       "  '4-1 Kioicho',\n",
       "  '',\n",
       "  'Chiyoda-Ku',\n",
       "  'Japan',\n",
       "  '102-8578',\n",
       "  'Japan'),\n",
       " ('6',\n",
       "  'Sydney',\n",
       "  '+61 2 9264 2451',\n",
       "  '5-11 Wentworth Avenue',\n",
       "  'Floor #2',\n",
       "  '',\n",
       "  'Australia',\n",
       "  'NSW 2010',\n",
       "  'APAC'),\n",
       " ('7',\n",
       "  'London',\n",
       "  '+44 20 7877 2041',\n",
       "  '25 Old Broad Street',\n",
       "  'Level 7',\n",
       "  '',\n",
       "  'UK',\n",
       "  'EC2N 1HN',\n",
       "  'EMEA')]"
      ]
     },
     "execution_count": 7,
     "metadata": {},
     "output_type": "execute_result"
    }
   ],
   "source": [
    "cur.execute('''SELECT * FROM offices\n",
    "                        LIMIT 10;\n",
    "            ''').fetchall()"
   ]
  },
  {
   "cell_type": "code",
   "execution_count": 9,
   "metadata": {},
   "outputs": [
    {
     "data": {
      "text/plain": [
       "[('Firrelli', 'Julie'), ('Patterson', 'Steve')]"
      ]
     },
     "execution_count": 9,
     "metadata": {},
     "output_type": "execute_result"
    }
   ],
   "source": [
    "cur.execute('''SELECT employees.lastName, employees.firstName FROM employees\n",
    "                        JOIN offices\n",
    "                        USING(officeCode)\n",
    "                        WHERE offices.officeCode = '2'\n",
    "                        LIMIT 10;\n",
    "            ''').fetchall()"
   ]
  },
  {
   "cell_type": "markdown",
   "metadata": {},
   "source": [
    "## Do any offices have no employees?"
   ]
  },
  {
   "cell_type": "code",
   "execution_count": 15,
   "metadata": {},
   "outputs": [
    {
     "data": {
      "text/plain": [
       "[('San Francisco',),\n",
       " ('Boston',),\n",
       " ('NYC',),\n",
       " ('Paris',),\n",
       " ('Tokyo',),\n",
       " ('Sydney',),\n",
       " ('London',)]"
      ]
     },
     "execution_count": 15,
     "metadata": {},
     "output_type": "execute_result"
    }
   ],
   "source": [
    "cur.execute('''SELECT offices.city FROM offices;\n",
    "            ''').fetchall()"
   ]
  },
  {
   "cell_type": "code",
   "execution_count": 14,
   "metadata": {},
   "outputs": [
    {
     "data": {
      "text/plain": [
       "[('San Francisco',),\n",
       " ('Boston',),\n",
       " ('NYC',),\n",
       " ('Paris',),\n",
       " ('Tokyo',),\n",
       " ('Sydney',),\n",
       " ('London',)]"
      ]
     },
     "execution_count": 14,
     "metadata": {},
     "output_type": "execute_result"
    }
   ],
   "source": [
    "#Your code here\n",
    "#compare offices.officeCodes to employees.officeCodes\n",
    "cur.execute('''SELECT DISTINCT offices.city FROM offices\n",
    "                JOIN employees\n",
    "                USING(officeCode)\n",
    "            ;''').fetchall()"
   ]
  },
  {
   "cell_type": "code",
   "execution_count": null,
   "metadata": {},
   "outputs": [],
   "source": [
    "#All offices have at least 1 employee"
   ]
  },
  {
   "cell_type": "markdown",
   "metadata": {},
   "source": [
    "## Write 3 Questions of your own and answer them"
   ]
  },
  {
   "cell_type": "code",
   "execution_count": 17,
   "metadata": {},
   "outputs": [
    {
     "data": {
      "text/plain": [
       "[('2005-06-09',)]"
      ]
     },
     "execution_count": 17,
     "metadata": {},
     "output_type": "execute_result"
    }
   ],
   "source": [
    "# Answers will vary\n",
    "#Which employee took the most recent payment from a customer?\n",
    "#Step 1: find the most recent payment\n",
    "cur.execute('''SELECT payments.paymentDate\n",
    "                FROM payments\n",
    "                ORDER BY payments.paymentDate DESC\n",
    "                LIMIT 1\n",
    "            ;''').fetchall() #This is the most recent payment: [('2005-06-09',)]"
   ]
  },
  {
   "cell_type": "code",
   "execution_count": 26,
   "metadata": {},
   "outputs": [
    {
     "data": {
      "text/plain": [
       "'353'"
      ]
     },
     "execution_count": 26,
     "metadata": {},
     "output_type": "execute_result"
    }
   ],
   "source": [
    "#Step 2: Find the customer number associated with the most recent paymentcur.execute('''SELECT customers.customerNumber\n",
    "cust = cur.execute('''SELECT customers.customerNumber\n",
    "                        FROM customers\n",
    "                        JOIN payments\n",
    "                        USING(customerNumber)\n",
    "                        ORDER BY payments.paymentDate DESC\n",
    "                        LIMIT 1\n",
    "                    ;''').fetchall() # This is the cust # of the most recent payment: [('353'')]\n",
    "cust[0][0]"
   ]
  },
  {
   "cell_type": "code",
   "execution_count": 29,
   "metadata": {},
   "outputs": [
    {
     "data": {
      "text/plain": [
       "[('Bondur', 'Loui')]"
      ]
     },
     "execution_count": 29,
     "metadata": {},
     "output_type": "execute_result"
    }
   ],
   "source": [
    "#Step 3: find the employee who was the sales rep for that customer\n",
    "cur.execute('''SELECT employees.lastName, employees.firstName\n",
    "                FROM employees\n",
    "                JOIN customers\n",
    "                ON employees.employeeNumber = customers.salesRepEmployeeNumber\n",
    "                WHERE customers.customerNumber = '353'  \n",
    "                LIMIT 1\n",
    "            ;''').fetchall()"
   ]
  },
  {
   "cell_type": "code",
   "execution_count": null,
   "metadata": {},
   "outputs": [],
   "source": [
    "#I don't know yet how to insert the string value of a variable into a sql query\n",
    "#but this is satisfactory for now."
   ]
  },
  {
   "cell_type": "code",
   "execution_count": null,
   "metadata": {},
   "outputs": [],
   "source": [
    "# Your code here"
   ]
  },
  {
   "cell_type": "code",
   "execution_count": null,
   "metadata": {},
   "outputs": [],
   "source": [
    "# Your code here"
   ]
  },
  {
   "cell_type": "markdown",
   "metadata": {},
   "source": [
    "## Level Up: Display the names of each product each employee has sold."
   ]
  },
  {
   "cell_type": "code",
   "execution_count": null,
   "metadata": {},
   "outputs": [],
   "source": [
    "# Your code here"
   ]
  },
  {
   "cell_type": "markdown",
   "metadata": {},
   "source": [
    "## Level Up: Display the Number of Products each Employee Has sold"
   ]
  },
  {
   "cell_type": "code",
   "execution_count": null,
   "metadata": {},
   "outputs": [],
   "source": [
    "#Your code here"
   ]
  },
  {
   "cell_type": "markdown",
   "metadata": {},
   "source": [
    "## Summary"
   ]
  },
  {
   "cell_type": "markdown",
   "metadata": {},
   "source": [
    "Congrats! You now know how to use Join statements, along with leveraging your foreign keys knowledge!"
   ]
  }
 ],
 "metadata": {
  "kernelspec": {
   "display_name": "Python 3",
   "language": "python",
   "name": "python3"
  },
  "language_info": {
   "codemirror_mode": {
    "name": "ipython",
    "version": 3
   },
   "file_extension": ".py",
   "mimetype": "text/x-python",
   "name": "python",
   "nbconvert_exporter": "python",
   "pygments_lexer": "ipython3",
   "version": "3.7.0"
  }
 },
 "nbformat": 4,
 "nbformat_minor": 2
}
